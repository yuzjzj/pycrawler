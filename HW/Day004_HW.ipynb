{
 "cells": [
  {
   "cell_type": "markdown",
   "metadata": {
    "colab_type": "text",
    "id": "uSf0mVenUdOf"
   },
   "source": [
    "# 利用 Python 存取 API\n",
    "\n",
    "\n",
    "* 了解 Server Client 的架構與溝通方法\n",
    "* 知道 HTTP Request & Response 的內容\n",
    "* 什麼是 API？如何用 Python 程式存取 API 資料\n"
   ]
  },
  {
   "cell_type": "markdown",
   "metadata": {
    "colab_type": "text",
    "id": "FwvxVPZuUdOh"
   },
   "source": [
    "## 作業目標\n",
    "\n",
    "* 比較一下範例檔案中的「r.text」與「json.loads(r.text)」讀出來的內容有什麼差異\n",
    "* 自行尋找一個合適的 API 接口做練習，並且查看其回傳內容\n",
    "    * https://cat-fact.herokuapp.com/facts (來源：https://alexwohlbruck.github.io/cat-facts/)\n",
    "    * http://odata.wra.gov.tw/v4/RealtimeWaterLevel (來源：https://data.gov.tw/dataset/25768)\n",
    "\n"
   ]
  },
  {
   "cell_type": "markdown",
   "metadata": {
    "colab_type": "text",
    "id": "r5GIjwYuUdOi"
   },
   "source": [
    "### 比較一下範例檔案中的「r.text」與「json.loads(r.text)」讀出來的內容有什麼差異"
   ]
  },
  {
   "cell_type": "code",
   "execution_count": 1,
   "metadata": {
    "colab": {},
    "colab_type": "code",
    "id": "sVxW3MTeUdOj",
    "outputId": "a83e3e3b-eb9d-4c6d-d5d2-3a2ef30cee87"
   },
   "outputs": [
    {
     "data": {
      "text/plain": [
       "(str, list)"
      ]
     },
     "execution_count": 1,
     "metadata": {},
     "output_type": "execute_result"
    }
   ],
   "source": [
    "import requests\n",
    "import json\n",
    "\n",
    "r = requests.get('https://api.github.com/events')\n",
    "type(r.text), type(json.loads(r.text))"
   ]
  },
  {
   "cell_type": "markdown",
   "metadata": {
    "colab_type": "text",
    "id": "eJwMGD6XUdOn"
   },
   "source": [
    "### 自行尋找一個合適的 API 接口做練習，並且查看其回傳內容\n",
    "\n",
    "* https://cat-fact.herokuapp.com/facts (來源：https://alexwohlbruck.github.io/cat-facts/)\n",
    "* http://odata.wra.gov.tw/v4/RealtimeWaterLevel (來源：https://data.gov.tw/dataset/25768)\n"
   ]
  },
  {
   "cell_type": "code",
   "execution_count": 2,
   "metadata": {
    "colab": {},
    "colab_type": "code",
    "id": "XDvzxwA0UdOn",
    "outputId": "154b29e6-cd0d-48b9-e659-6e9a3f55e274"
   },
   "outputs": [
    {
     "data": {
      "text/plain": [
       "'{\"@odata.context\": \"http://odata.wra.gov.tw/v4/$metadata#RealtimeWaterLevel\",\\n\"@odata.count\": 100,\\n\"value\": [{\"RecordTime\": \"Dec 11, 2019 2:50:00 PM\",\"StationIdentifier\": \"2200H029\",\"WaterLevel\": 145.15},{\"RecordTime\": \"Dec 11, 2019 2:50:00 PM\",\"StationIdentifier\": \"1730H070\",\"WaterLevel\": 226.25},{\"RecordTime\": \"Dec 11, 2019 2:50:00 PM\",\"StationIdentifier\": \"1580H021\",\"WaterLevel\": 1.28},{\"RecordTime\": \"Dec 11, 2019 2:50:00 PM\",\"StationIdentifier\": \"1580H017\",\"WaterLevel\": 25.73},{\"RecordTime\": \"Dec 11, 2019 2:50:00 PM\",\"StationIdentifier\": \"2560H019\",\"WaterLevel\": 4.48},{\"RecordTime\": \"Dec 11, 2019 2:50:00 PM\",\"StationIdentifier\": \"1580H001\",\"WaterLevel\": 224.21},{\"RecordTime\": \"Dec 11, 2019 2:50:00 PM\",\"StationIdentifier\": \"1730H075\",\"WaterLevel\": 92.83},{\"RecordTime\": \"Dec 11, 2019 2:50:00 PM\",\"StationIdentifier\": \"2420H036\",\"WaterLevel\": 164.37},{\"RecordTime\": \"Dec 11, 2019 2:50:00 PM\",\"StationIdentifier\": \"2500H003\",\"WaterLevel\": 32.2},{\"RecordTime\": \"Dec 11, 2019 2:50:00 PM\",\"StationIdentifier\": \"1730H066\",\"WaterLevel\": 138.73},{\"RecordTime\": \"Dec 11, 2019 2:50:00 PM\",\"StationIdentifier\": \"1730H077\",\"WaterLevel\": 740.49},{\"RecordTime\": \"Dec 11, 2019 2:50:00 PM\",\"StationIdentifier\": \"1550H014\",\"WaterLevel\": 26.75},{\"RecordTime\": \"Dec 11, 2019 2:50:00 PM\",\"StationIdentifier\": \"1670H004\",\"WaterLevel\": 2.98},{\"RecordTime\": \"Dec 11, 2019 2:50:00 PM\",\"StationIdentifier\": \"2420H019\",\"WaterLevel\": 109.97},{\"RecordTime\": \"Dec 11, 2019 2:50:00 PM\",\"StationIdentifier\": \"1650H012\",\"WaterLevel\": 0.7},{\"RecordTime\": \"Dec 11, 2019 2:50:00 PM\",\"StationIdentifier\": \"1730H061\",\"WaterLevel\": 266.23},{\"RecordTime\": \"Dec 11, 2019 2:50:00 PM\",\"StationIdentifier\": \"1730H072\",\"WaterLevel\": 248.86},{\"RecordTime\": \"Dec 11, 2019 2:50:00 PM\",\"StationIdentifier\": \"1540H039\",\"WaterLevel\": 38.99},{\"RecordTime\": \"Dec 11, 2019 2:50:00 PM\",\"StationIdentifier\": \"1660H012\",\"WaterLevel\": 0.14},{\"RecordTime\": \"Dec 11, 2019 2:50:00 PM\",\"StationIdentifier\": \"2370H025\",\"WaterLevel\": 261.61},{\"RecordTime\": \"Dec 11, 2019 2:50:00 PM\",\"StationIdentifier\": \"1650H009\",\"WaterLevel\": 0.1},{\"RecordTime\": \"Dec 11, 2019 2:50:00 PM\",\"StationIdentifier\": \"1730H057\",\"WaterLevel\": 43.48},{\"RecordTime\": \"Dec 11, 2019 2:50:00 PM\",\"StationIdentifier\": \"1730H068\",\"WaterLevel\": 10.14},{\"RecordTime\": \"Dec 11, 2019 2:50:00 PM\",\"StationIdentifier\": \"1540H037\",\"WaterLevel\": 32.01},{\"RecordTime\": \"Dec 11, 2019 2:50:00 PM\",\"StationIdentifier\": \"1650H015\",\"WaterLevel\": 0.05},{\"RecordTime\": \"Dec 11, 2019 2:50:00 PM\",\"StationIdentifier\": \"2370H018\",\"WaterLevel\": 124.1},{\"RecordTime\": \"Dec 11, 2019 2:50:00 PM\",\"StationIdentifier\": \"1630H036\",\"WaterLevel\": 65.83},{\"RecordTime\": \"Dec 11, 2019 2:50:00 PM\",\"StationIdentifier\": \"1660H009\",\"WaterLevel\": 4.85},{\"RecordTime\": \"Dec 11, 2019 2:50:00 PM\",\"StationIdentifier\": \"1730H043\",\"WaterLevel\": 23.04},{\"RecordTime\": \"Dec 11, 2019 2:50:00 PM\",\"StationIdentifier\": \"2420H043\",\"WaterLevel\": 79.32},{\"RecordTime\": \"Dec 11, 2019 2:50:00 PM\",\"StationIdentifier\": \"1540H033\",\"WaterLevel\": 23.4},{\"RecordTime\": \"Dec 11, 2019 2:50:00 PM\",\"StationIdentifier\": \"1650H010\",\"WaterLevel\": 0.19},{\"RecordTime\": \"Dec 11, 2019 2:20:00 PM\",\"StationIdentifier\": \"1630H030\",\"WaterLevel\": 1.57},{\"RecordTime\": \"Dec 11, 2019 2:20:00 PM\",\"StationIdentifier\": \"1630H032\",\"WaterLevel\": 0.13},{\"RecordTime\": \"Dec 11, 2019 2:50:00 PM\",\"StationIdentifier\": \"1650H013\",\"WaterLevel\": 5.62},{\"RecordTime\": \"Dec 11, 2019 2:50:00 PM\",\"StationIdentifier\": \"1680H005\",\"WaterLevel\": 0.11},{\"RecordTime\": \"Dec 11, 2019 2:50:00 PM\",\"StationIdentifier\": \"2200H026\",\"WaterLevel\": 106.73},{\"RecordTime\": \"Dec 11, 2019 2:50:00 PM\",\"StationIdentifier\": \"1350H031\",\"WaterLevel\": -0.15},{\"RecordTime\": \"Dec 11, 2019 2:50:00 PM\",\"StationIdentifier\": \"1630H040\",\"WaterLevel\": 1.76},{\"RecordTime\": \"Dec 11, 2019 2:50:00 PM\",\"StationIdentifier\": \"1630H018\",\"WaterLevel\": 10.01},{\"RecordTime\": \"Dec 11, 2019 2:20:00 PM\",\"StationIdentifier\": \"1630H027\",\"WaterLevel\": 26.14},{\"RecordTime\": \"Dec 11, 2019 2:50:00 PM\",\"StationIdentifier\": \"1540H032\",\"WaterLevel\": 20.45},{\"RecordTime\": \"Dec 11, 2019 2:50:00 PM\",\"StationIdentifier\": \"1550H012\",\"WaterLevel\": 0.54},{\"RecordTime\": \"Dec 11, 2019 2:50:00 PM\",\"StationIdentifier\": \"1630H023\",\"WaterLevel\": 0.03},{\"RecordTime\": \"Dec 11, 2019 2:50:00 PM\",\"StationIdentifier\": \"1350H029\",\"WaterLevel\": 175.97},{\"RecordTime\": \"Dec 11, 2019 2:20:00 PM\",\"StationIdentifier\": \"1630H034\",\"WaterLevel\": 278.47},{\"RecordTime\": \"Dec 11, 2019 2:50:00 PM\",\"StationIdentifier\": \"1590H016\",\"WaterLevel\": 11.27},{\"RecordTime\": \"Dec 11, 2019 2:50:00 PM\",\"StationIdentifier\": \"1630H024\",\"WaterLevel\": 69.07},{\"RecordTime\": \"Dec 11, 2019 2:50:00 PM\",\"StationIdentifier\": \"1540H029\",\"WaterLevel\": 13.13},{\"RecordTime\": \"Dec 11, 2019 2:50:00 PM\",\"StationIdentifier\": \"1540H030\",\"WaterLevel\": 27.2},{\"RecordTime\": \"Dec 11, 2019 2:50:00 PM\",\"StationIdentifier\": \"1630H005\",\"WaterLevel\": 39.76},{\"RecordTime\": \"Dec 11, 2019 2:50:00 PM\",\"StationIdentifier\": \"1350H027\",\"WaterLevel\": 145.89},{\"RecordTime\": \"Dec 11, 2019 2:50:00 PM\",\"StationIdentifier\": \"1510H082\",\"WaterLevel\": 752.39},{\"RecordTime\": \"Dec 11, 2019 2:50:00 PM\",\"StationIdentifier\": \"1580H022\",\"WaterLevel\": 0.16},{\"RecordTime\": \"Dec 11, 2019 2:50:00 PM\",\"StationIdentifier\": \"1430H054\",\"WaterLevel\": 48.29},{\"RecordTime\": \"Dec 11, 2019 2:50:00 PM\",\"StationIdentifier\": \"1510H084\",\"WaterLevel\": 145.06},{\"RecordTime\": \"Dec 11, 2019 2:50:00 PM\",\"StationIdentifier\": \"1540H009\",\"WaterLevel\": 0.59},{\"RecordTime\": \"Dec 11, 2019 2:50:00 PM\",\"StationIdentifier\": \"1590H013\",\"WaterLevel\": 20.76},{\"RecordTime\": \"Dec 11, 2019 2:50:00 PM\",\"StationIdentifier\": \"1510H080\",\"WaterLevel\": 1068.94},{\"RecordTime\": \"Dec 11, 2019 9:50:00 AM\",\"StationIdentifier\": \"1510H058\",\"WaterLevel\": 12.13},{\"RecordTime\": \"Dec 11, 2019 2:50:00 PM\",\"StationIdentifier\": \"1430H037\",\"WaterLevel\": 380.46},{\"RecordTime\": \"Dec 11, 2019 2:50:00 PM\",\"StationIdentifier\": \"1430H051\",\"WaterLevel\": 95.66},{\"RecordTime\": \"Dec 11, 2019 2:50:00 PM\",\"StationIdentifier\": \"1350H024\",\"WaterLevel\": 259.67},{\"RecordTime\": \"Dec 11, 2019 2:50:00 PM\",\"StationIdentifier\": \"1520H008\",\"WaterLevel\": 78.22},{\"RecordTime\": \"Dec 11, 2019 2:50:00 PM\",\"StationIdentifier\": \"1580H018\",\"WaterLevel\": 21.23},{\"RecordTime\": \"Dec 11, 2019 9:50:00 AM\",\"StationIdentifier\": \"1510H079\",\"WaterLevel\": 187.7},{\"RecordTime\": \"Dec 11, 2019 9:50:00 AM\",\"StationIdentifier\": \"1510H049\",\"WaterLevel\": 470.82},{\"RecordTime\": \"Dec 11, 2019 2:50:00 PM\",\"StationIdentifier\": \"1430H029\",\"WaterLevel\": 50.6},{\"RecordTime\": \"Dec 11, 2019 2:50:00 PM\",\"StationIdentifier\": \"1430H047\",\"WaterLevel\": 72.35},{\"RecordTime\": \"Dec 11, 2019 2:50:00 PM\",\"StationIdentifier\": \"1350H020\",\"WaterLevel\": 220.79},{\"RecordTime\": \"Dec 11, 2019 2:50:00 PM\",\"StationIdentifier\": \"1510H086\",\"WaterLevel\": 317.97},{\"RecordTime\": \"Dec 11, 2019 2:50:00 PM\",\"StationIdentifier\": \"1580H008\",\"WaterLevel\": 19.39},{\"RecordTime\": \"Dec 11, 2019 9:50:00 AM\",\"StationIdentifier\": \"1510H071\",\"WaterLevel\": 20.5},{\"RecordTime\": \"Dec 11, 2019 2:50:00 PM\",\"StationIdentifier\": \"1430H056\",\"WaterLevel\": 79.83},{\"RecordTime\": \"Dec 11, 2019 2:50:00 PM\",\"StationIdentifier\": \"1420H057\",\"WaterLevel\": 639.41},{\"RecordTime\": \"Dec 11, 2019 2:50:00 PM\",\"StationIdentifier\": \"1420H058\",\"WaterLevel\": 440.47},{\"RecordTime\": \"Dec 11, 2019 2:50:00 PM\",\"StationIdentifier\": \"1350H016\",\"WaterLevel\": 97.9},{\"RecordTime\": \"Dec 11, 2019 2:50:00 PM\",\"StationIdentifier\": \"1550H017\",\"WaterLevel\": 15.74},{\"RecordTime\": \"Dec 11, 2019 9:50:00 AM\",\"StationIdentifier\": \"1510H075\",\"WaterLevel\": 346.5},{\"RecordTime\": \"Dec 11, 2019 2:50:00 PM\",\"StationIdentifier\": \"1430H045\",\"WaterLevel\": 91.76},{\"RecordTime\": \"Dec 11, 2019 2:50:00 PM\",\"StationIdentifier\": \"1430H058\",\"WaterLevel\": 83.01},{\"RecordTime\": \"Dec 11, 2019 2:50:00 PM\",\"StationIdentifier\": \"1400H015\",\"WaterLevel\": 622.43},{\"RecordTime\": \"Dec 11, 2019 2:50:00 PM\",\"StationIdentifier\": \"1420H055\",\"WaterLevel\": 318.68},{\"RecordTime\": \"Dec 11, 2019 2:50:00 PM\",\"StationIdentifier\": \"1340H015\",\"WaterLevel\": 50.08},{\"RecordTime\": \"Dec 11, 2019 2:50:00 PM\",\"StationIdentifier\": \"1420H054\",\"WaterLevel\": 704.2},{\"RecordTime\": \"Dec 11, 2019 2:50:00 PM\",\"StationIdentifier\": \"1350H018\",\"WaterLevel\": 282.05},{\"RecordTime\": \"Dec 11, 2019 2:50:00 PM\",\"StationIdentifier\": \"1430H040\",\"WaterLevel\": 19.29},{\"RecordTime\": \"Dec 11, 2019 2:50:00 PM\",\"StationIdentifier\": \"1340H014\",\"WaterLevel\": 0.37},{\"RecordTime\": \"Dec 11, 2019 2:50:00 PM\",\"StationIdentifier\": \"1400H009\",\"WaterLevel\": 191.55},{\"RecordTime\": \"Dec 11, 2019 2:55:00 PM\",\"StationIdentifier\": \"1140H106\",\"WaterLevel\": 49.11},{\"RecordTime\": \"Dec 11, 2019 2:50:00 PM\",\"StationIdentifier\": \"2370H017\",\"WaterLevel\": 58.49},{\"RecordTime\": \"Dec 11, 2019 2:50:00 PM\",\"StationIdentifier\": \"1420H049\",\"WaterLevel\": 54.19},{\"RecordTime\": \"Dec 11, 2019 2:50:00 PM\",\"StationIdentifier\": \"1350H001\",\"WaterLevel\": 169.81},{\"RecordTime\": \"Dec 11, 2019 2:50:00 PM\",\"StationIdentifier\": \"1300H022\",\"WaterLevel\": -1.01},{\"RecordTime\": \"Dec 11, 2019 2:50:00 PM\",\"StationIdentifier\": \"1340H011\",\"WaterLevel\": 7.38},{\"RecordTime\": \"Dec 11, 2019 2:50:00 PM\",\"StationIdentifier\": \"1140H108\",\"WaterLevel\": 12.12},{\"RecordTime\": \"Dec 11, 2019 2:50:00 PM\",\"StationIdentifier\": \"1140H099\",\"WaterLevel\": 263.49},{\"RecordTime\": \"Dec 11, 2019 2:50:00 PM\",\"StationIdentifier\": \"1850H005\",\"WaterLevel\": 22.09},{\"RecordTime\": \"Dec 11, 2019 2:40:00 PM\",\"StationIdentifier\": \"1400H019\",\"WaterLevel\": 310.14},{\"RecordTime\": \"Dec 11, 2019 2:50:00 PM\",\"StationIdentifier\": \"1290H002\",\"WaterLevel\": 41}],\\r\\n\"@odata.nextLink\": \"http://odata.wra.gov.tw/v4/RealtimeWaterLevel?$skip=100&$top=100\"}'"
      ]
     },
     "execution_count": 2,
     "metadata": {},
     "output_type": "execute_result"
    }
   ],
   "source": [
    "requests.get('http://odata.wra.gov.tw/v4/RealtimeWaterLevel').text"
   ]
  },
  {
   "cell_type": "code",
   "execution_count": null,
   "metadata": {
    "colab": {},
    "colab_type": "code",
    "id": "RPISC-Y4UdOq"
   },
   "outputs": [],
   "source": []
  },
  {
   "cell_type": "code",
   "execution_count": null,
   "metadata": {
    "colab": {},
    "colab_type": "code",
    "id": "H5EyeQRIUdOr"
   },
   "outputs": [],
   "source": []
  }
 ],
 "metadata": {
  "colab": {
   "name": "homework.ipynb",
   "provenance": []
  },
  "kernelspec": {
   "display_name": "Python 3",
   "language": "python",
   "name": "python3"
  },
  "language_info": {
   "codemirror_mode": {
    "name": "ipython",
    "version": 3
   },
   "file_extension": ".py",
   "mimetype": "text/x-python",
   "name": "python",
   "nbconvert_exporter": "python",
   "pygments_lexer": "ipython3",
   "version": "3.6.10"
  }
 },
 "nbformat": 4,
 "nbformat_minor": 4
}
